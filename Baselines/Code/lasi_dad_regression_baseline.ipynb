{
 "cells": [
  {
   "cell_type": "code",
   "execution_count": 24,
   "metadata": {},
   "outputs": [],
   "source": [
    "# # dta -> csv\n",
    "# import pandas as pd\n",
    "# data_path = 'C:/Users/HP/Desktop/data'\n",
    "# data = pd.io.stata.read_stata(data_path + '/H_DAD_w1a3.dta')\n",
    "# data.to_csv(data_path + '/H_DAD_w1a3.csv') # Save as a csv"
   ]
  },
  {
   "cell_type": "code",
   "execution_count": 25,
   "metadata": {},
   "outputs": [
    {
     "name": "stdout",
     "output_type": "stream",
     "text": [
      "(4096, 729)\n"
     ]
    }
   ],
   "source": [
    "# csv -> df\n",
    "import csv\n",
    "import pandas as pd\n",
    "csv_path = 'C:/Users/HP/Desktop/data/'\n",
    "df = pd.read_csv(csv_path + '/H_DAD_w1a3.csv', index_col=0)\n",
    "print(df.shape)"
   ]
  },
  {
   "cell_type": "code",
   "execution_count": 26,
   "metadata": {},
   "outputs": [
    {
     "data": {
      "text/html": [
       "<div>\n",
       "<style scoped>\n",
       "    .dataframe tbody tr th:only-of-type {\n",
       "        vertical-align: middle;\n",
       "    }\n",
       "\n",
       "    .dataframe tbody tr th {\n",
       "        vertical-align: top;\n",
       "    }\n",
       "\n",
       "    .dataframe thead th {\n",
       "        text-align: right;\n",
       "    }\n",
       "</style>\n",
       "<table border=\"1\" class=\"dataframe\">\n",
       "  <thead>\n",
       "    <tr style=\"text-align: right;\">\n",
       "      <th></th>\n",
       "      <th>prim_key</th>\n",
       "      <th>hhid</th>\n",
       "      <th>pnc</th>\n",
       "      <th>pn</th>\n",
       "      <th>r1stateid</th>\n",
       "      <th>r1iwy_d</th>\n",
       "      <th>r1iwm_d</th>\n",
       "      <th>r1lasidy</th>\n",
       "      <th>rabyear</th>\n",
       "      <th>rabmonth</th>\n",
       "      <th>...</th>\n",
       "      <th>r1cdr_mem3</th>\n",
       "      <th>r1cdr_ori3</th>\n",
       "      <th>r1cdr_jud3</th>\n",
       "      <th>r1cdr_com3</th>\n",
       "      <th>r1cdr_hom3</th>\n",
       "      <th>r1cdr_per3</th>\n",
       "      <th>r1cdr_scor3</th>\n",
       "      <th>r1raterid1</th>\n",
       "      <th>r1raterid2</th>\n",
       "      <th>r1raterid3</th>\n",
       "    </tr>\n",
       "  </thead>\n",
       "  <tbody>\n",
       "    <tr>\n",
       "      <th>0</th>\n",
       "      <td>101000100040102</td>\n",
       "      <td>101000100040100</td>\n",
       "      <td>2</td>\n",
       "      <td>2</td>\n",
       "      <td>1</td>\n",
       "      <td>2019</td>\n",
       "      <td>1</td>\n",
       "      <td>224</td>\n",
       "      <td>1950</td>\n",
       "      <td>11.0</td>\n",
       "      <td>...</td>\n",
       "      <td>0.5</td>\n",
       "      <td>0.0</td>\n",
       "      <td>0.5</td>\n",
       "      <td>0.5</td>\n",
       "      <td>0.0</td>\n",
       "      <td>0.0</td>\n",
       "      <td>0.5</td>\n",
       "      <td>7049.0</td>\n",
       "      <td>7021.0</td>\n",
       "      <td>7038.0</td>\n",
       "    </tr>\n",
       "    <tr>\n",
       "      <th>1</th>\n",
       "      <td>101000100320109</td>\n",
       "      <td>101000100320100</td>\n",
       "      <td>9</td>\n",
       "      <td>9</td>\n",
       "      <td>1</td>\n",
       "      <td>2019</td>\n",
       "      <td>1</td>\n",
       "      <td>224</td>\n",
       "      <td>1949</td>\n",
       "      <td>9.0</td>\n",
       "      <td>...</td>\n",
       "      <td>1.0</td>\n",
       "      <td>0.5</td>\n",
       "      <td>0.5</td>\n",
       "      <td>0.5</td>\n",
       "      <td>0.5</td>\n",
       "      <td>0.0</td>\n",
       "      <td>0.5</td>\n",
       "      <td>7033.0</td>\n",
       "      <td>7038.0</td>\n",
       "      <td>7021.0</td>\n",
       "    </tr>\n",
       "    <tr>\n",
       "      <th>2</th>\n",
       "      <td>101000101040101</td>\n",
       "      <td>101000101040100</td>\n",
       "      <td>1</td>\n",
       "      <td>1</td>\n",
       "      <td>1</td>\n",
       "      <td>2019</td>\n",
       "      <td>1</td>\n",
       "      <td>223</td>\n",
       "      <td>1957</td>\n",
       "      <td>5.0</td>\n",
       "      <td>...</td>\n",
       "      <td>0.5</td>\n",
       "      <td>1.0</td>\n",
       "      <td>0.5</td>\n",
       "      <td>0.0</td>\n",
       "      <td>0.5</td>\n",
       "      <td>0.5</td>\n",
       "      <td>0.5</td>\n",
       "      <td>7043.0</td>\n",
       "      <td>7020.0</td>\n",
       "      <td>7049.0</td>\n",
       "    </tr>\n",
       "    <tr>\n",
       "      <th>3</th>\n",
       "      <td>101000101720101</td>\n",
       "      <td>101000101720100</td>\n",
       "      <td>1</td>\n",
       "      <td>1</td>\n",
       "      <td>1</td>\n",
       "      <td>2019</td>\n",
       "      <td>1</td>\n",
       "      <td>222</td>\n",
       "      <td>1957</td>\n",
       "      <td>11.0</td>\n",
       "      <td>...</td>\n",
       "      <td>2.0</td>\n",
       "      <td>2.0</td>\n",
       "      <td>3.0</td>\n",
       "      <td>2.0</td>\n",
       "      <td>3.0</td>\n",
       "      <td>3.0</td>\n",
       "      <td>3.0</td>\n",
       "      <td>7043.0</td>\n",
       "      <td>7038.0</td>\n",
       "      <td>7046.0</td>\n",
       "    </tr>\n",
       "    <tr>\n",
       "      <th>4</th>\n",
       "      <td>101000101890107</td>\n",
       "      <td>101000101890100</td>\n",
       "      <td>7</td>\n",
       "      <td>7</td>\n",
       "      <td>1</td>\n",
       "      <td>2019</td>\n",
       "      <td>1</td>\n",
       "      <td>222</td>\n",
       "      <td>1949</td>\n",
       "      <td>4.0</td>\n",
       "      <td>...</td>\n",
       "      <td>0.5</td>\n",
       "      <td>0.0</td>\n",
       "      <td>0.0</td>\n",
       "      <td>0.0</td>\n",
       "      <td>0.5</td>\n",
       "      <td>0.0</td>\n",
       "      <td>0.5</td>\n",
       "      <td>7049.0</td>\n",
       "      <td>7038.0</td>\n",
       "      <td>7020.0</td>\n",
       "    </tr>\n",
       "    <tr>\n",
       "      <th>5</th>\n",
       "      <td>101000104030101</td>\n",
       "      <td>101000104030100</td>\n",
       "      <td>1</td>\n",
       "      <td>1</td>\n",
       "      <td>1</td>\n",
       "      <td>2019</td>\n",
       "      <td>1</td>\n",
       "      <td>220</td>\n",
       "      <td>1953</td>\n",
       "      <td>2.0</td>\n",
       "      <td>...</td>\n",
       "      <td>0.5</td>\n",
       "      <td>0.0</td>\n",
       "      <td>0.0</td>\n",
       "      <td>0.0</td>\n",
       "      <td>0.0</td>\n",
       "      <td>0.0</td>\n",
       "      <td>0.5</td>\n",
       "      <td>7036.0</td>\n",
       "      <td>7035.0</td>\n",
       "      <td>7020.0</td>\n",
       "    </tr>\n",
       "    <tr>\n",
       "      <th>6</th>\n",
       "      <td>101000200050102</td>\n",
       "      <td>101000200050100</td>\n",
       "      <td>2</td>\n",
       "      <td>2</td>\n",
       "      <td>1</td>\n",
       "      <td>2019</td>\n",
       "      <td>2</td>\n",
       "      <td>255</td>\n",
       "      <td>1953</td>\n",
       "      <td>11.0</td>\n",
       "      <td>...</td>\n",
       "      <td>1.0</td>\n",
       "      <td>0.5</td>\n",
       "      <td>1.0</td>\n",
       "      <td>0.5</td>\n",
       "      <td>0.5</td>\n",
       "      <td>0.5</td>\n",
       "      <td>0.5</td>\n",
       "      <td>7042.0</td>\n",
       "      <td>7046.0</td>\n",
       "      <td>7036.0</td>\n",
       "    </tr>\n",
       "    <tr>\n",
       "      <th>7</th>\n",
       "      <td>101000200160109</td>\n",
       "      <td>101000200160100</td>\n",
       "      <td>9</td>\n",
       "      <td>9</td>\n",
       "      <td>1</td>\n",
       "      <td>2019</td>\n",
       "      <td>2</td>\n",
       "      <td>252</td>\n",
       "      <td>1938</td>\n",
       "      <td>1.0</td>\n",
       "      <td>...</td>\n",
       "      <td>1.0</td>\n",
       "      <td>1.0</td>\n",
       "      <td>1.0</td>\n",
       "      <td>0.0</td>\n",
       "      <td>0.5</td>\n",
       "      <td>0.0</td>\n",
       "      <td>0.5</td>\n",
       "      <td>7042.0</td>\n",
       "      <td>7038.0</td>\n",
       "      <td>7043.0</td>\n",
       "    </tr>\n",
       "    <tr>\n",
       "      <th>8</th>\n",
       "      <td>101000200740101</td>\n",
       "      <td>101000200740100</td>\n",
       "      <td>1</td>\n",
       "      <td>1</td>\n",
       "      <td>1</td>\n",
       "      <td>2019</td>\n",
       "      <td>2</td>\n",
       "      <td>252</td>\n",
       "      <td>1957</td>\n",
       "      <td>3.0</td>\n",
       "      <td>...</td>\n",
       "      <td>1.0</td>\n",
       "      <td>1.0</td>\n",
       "      <td>0.5</td>\n",
       "      <td>0.5</td>\n",
       "      <td>1.0</td>\n",
       "      <td>0.0</td>\n",
       "      <td>0.5</td>\n",
       "      <td>7049.0</td>\n",
       "      <td>7046.0</td>\n",
       "      <td>7020.0</td>\n",
       "    </tr>\n",
       "    <tr>\n",
       "      <th>9</th>\n",
       "      <td>101000201560108</td>\n",
       "      <td>101000201560100</td>\n",
       "      <td>8</td>\n",
       "      <td>8</td>\n",
       "      <td>1</td>\n",
       "      <td>2019</td>\n",
       "      <td>2</td>\n",
       "      <td>253</td>\n",
       "      <td>1950</td>\n",
       "      <td>NaN</td>\n",
       "      <td>...</td>\n",
       "      <td>0.0</td>\n",
       "      <td>0.5</td>\n",
       "      <td>0.5</td>\n",
       "      <td>0.0</td>\n",
       "      <td>0.0</td>\n",
       "      <td>0.0</td>\n",
       "      <td>0.5</td>\n",
       "      <td>7038.0</td>\n",
       "      <td>7036.0</td>\n",
       "      <td>7043.0</td>\n",
       "    </tr>\n",
       "  </tbody>\n",
       "</table>\n",
       "<p>10 rows × 729 columns</p>\n",
       "</div>"
      ],
      "text/plain": [
       "          prim_key             hhid  pnc  pn  r1stateid  r1iwy_d  r1iwm_d  \\\n",
       "0  101000100040102  101000100040100    2   2          1     2019        1   \n",
       "1  101000100320109  101000100320100    9   9          1     2019        1   \n",
       "2  101000101040101  101000101040100    1   1          1     2019        1   \n",
       "3  101000101720101  101000101720100    1   1          1     2019        1   \n",
       "4  101000101890107  101000101890100    7   7          1     2019        1   \n",
       "5  101000104030101  101000104030100    1   1          1     2019        1   \n",
       "6  101000200050102  101000200050100    2   2          1     2019        2   \n",
       "7  101000200160109  101000200160100    9   9          1     2019        2   \n",
       "8  101000200740101  101000200740100    1   1          1     2019        2   \n",
       "9  101000201560108  101000201560100    8   8          1     2019        2   \n",
       "\n",
       "   r1lasidy  rabyear  rabmonth     ...      r1cdr_mem3  r1cdr_ori3  \\\n",
       "0       224     1950      11.0     ...             0.5         0.0   \n",
       "1       224     1949       9.0     ...             1.0         0.5   \n",
       "2       223     1957       5.0     ...             0.5         1.0   \n",
       "3       222     1957      11.0     ...             2.0         2.0   \n",
       "4       222     1949       4.0     ...             0.5         0.0   \n",
       "5       220     1953       2.0     ...             0.5         0.0   \n",
       "6       255     1953      11.0     ...             1.0         0.5   \n",
       "7       252     1938       1.0     ...             1.0         1.0   \n",
       "8       252     1957       3.0     ...             1.0         1.0   \n",
       "9       253     1950       NaN     ...             0.0         0.5   \n",
       "\n",
       "   r1cdr_jud3  r1cdr_com3  r1cdr_hom3  r1cdr_per3  r1cdr_scor3  r1raterid1  \\\n",
       "0         0.5         0.5         0.0         0.0          0.5      7049.0   \n",
       "1         0.5         0.5         0.5         0.0          0.5      7033.0   \n",
       "2         0.5         0.0         0.5         0.5          0.5      7043.0   \n",
       "3         3.0         2.0         3.0         3.0          3.0      7043.0   \n",
       "4         0.0         0.0         0.5         0.0          0.5      7049.0   \n",
       "5         0.0         0.0         0.0         0.0          0.5      7036.0   \n",
       "6         1.0         0.5         0.5         0.5          0.5      7042.0   \n",
       "7         1.0         0.0         0.5         0.0          0.5      7042.0   \n",
       "8         0.5         0.5         1.0         0.0          0.5      7049.0   \n",
       "9         0.5         0.0         0.0         0.0          0.5      7038.0   \n",
       "\n",
       "   r1raterid2  r1raterid3  \n",
       "0      7021.0      7038.0  \n",
       "1      7038.0      7021.0  \n",
       "2      7020.0      7049.0  \n",
       "3      7038.0      7046.0  \n",
       "4      7038.0      7020.0  \n",
       "5      7035.0      7020.0  \n",
       "6      7046.0      7036.0  \n",
       "7      7038.0      7043.0  \n",
       "8      7046.0      7020.0  \n",
       "9      7036.0      7043.0  \n",
       "\n",
       "[10 rows x 729 columns]"
      ]
     },
     "execution_count": 26,
     "metadata": {},
     "output_type": "execute_result"
    }
   ],
   "source": [
    "# show the data\n",
    "df.head(10)"
   ]
  },
  {
   "cell_type": "code",
   "execution_count": 27,
   "metadata": {},
   "outputs": [],
   "source": [
    "# for i in df.columns.tolist():\n",
    "#     print(i)\n"
   ]
  },
  {
   "cell_type": "code",
   "execution_count": 28,
   "metadata": {},
   "outputs": [
    {
     "data": {
      "text/plain": [
       "0.5    1568\n",
       "0.0     768\n",
       "1.0     162\n",
       "2.0      25\n",
       "3.0       5\n",
       "Name: r1cdr_final, dtype: int64"
      ]
     },
     "execution_count": 28,
     "metadata": {},
     "output_type": "execute_result"
    }
   ],
   "source": [
    "# distribution of label\n",
    "df['r1cdr_final'].value_counts()"
   ]
  },
  {
   "cell_type": "code",
   "execution_count": 29,
   "metadata": {},
   "outputs": [
    {
     "name": "stdout",
     "output_type": "stream",
     "text": [
      "4 703\n",
      "(4096, 704)\n"
     ]
    }
   ],
   "source": [
    "# get whatever before r1cdr_final\n",
    "st = df.columns.get_loc('r1stateid')\n",
    "ed = df.columns.get_loc('r1cdr_final')\n",
    "print(st,ed)\n",
    "new_df = df.iloc[:,0:ed+1]\n",
    "print(new_df.shape)"
   ]
  },
  {
   "cell_type": "code",
   "execution_count": 30,
   "metadata": {},
   "outputs": [
    {
     "name": "stdout",
     "output_type": "stream",
     "text": [
      "(2528, 704)\n",
      "(2528, 504)\n",
      "(2528, 504)\n"
     ]
    }
   ],
   "source": [
    "# drop null data\n",
    "new_df = new_df[new_df['r1cdr_final'].notnull()]\n",
    "print(new_df.shape)\n",
    "new_df = new_df.dropna(axis=1)\n",
    "print(new_df.shape)\n",
    "clean_df = new_df\n",
    "print(clean_df.shape)"
   ]
  },
  {
   "cell_type": "code",
   "execution_count": 31,
   "metadata": {},
   "outputs": [
    {
     "name": "stdout",
     "output_type": "stream",
     "text": [
      "(2528,)\n",
      "(2528, 503)\n"
     ]
    }
   ],
   "source": [
    "# split features and labels\n",
    "y = clean_df.r1cdr_final\n",
    "X = clean_df.drop(['r1cdr_final'], axis=1)\n",
    "print(y.shape)\n",
    "print(X.shape)"
   ]
  },
  {
   "cell_type": "code",
   "execution_count": 32,
   "metadata": {},
   "outputs": [
    {
     "name": "stdout",
     "output_type": "stream",
     "text": [
      "(2528,)\n"
     ]
    }
   ],
   "source": [
    "# split train_data and test_data\n",
    "from sklearn.model_selection import train_test_split\n",
    "from sklearn import preprocessing\n",
    "# y[y <= 0.5] = 0\n",
    "# y[y > 0.5] = 1\n",
    "print(y.shape)\n",
    "# labelencoder = preprocessing.LabelEncoder()\n",
    "# labelencoder.fit(y)\n",
    "# y = labelencoder.transform(y)\n",
    "# print(y)\n",
    "X_train, X_test, y_train, y_test = train_test_split(X, y, train_size=0.8, test_size=0.2, random_state=0)"
   ]
  },
  {
   "cell_type": "code",
   "execution_count": 33,
   "metadata": {},
   "outputs": [
    {
     "name": "stderr",
     "output_type": "stream",
     "text": [
      "D:\\Anaconda3\\lib\\site-packages\\sklearn\\preprocessing\\data.py:625: DataConversionWarning: Data with input dtype int64, float64 were all converted to float64 by StandardScaler.\n",
      "  return self.partial_fit(X, y)\n",
      "D:\\Anaconda3\\lib\\site-packages\\sklearn\\base.py:465: DataConversionWarning: Data with input dtype int64, float64 were all converted to float64 by StandardScaler.\n",
      "  return self.fit(X, y, **fit_params).transform(X)\n"
     ]
    },
    {
     "data": {
      "text/plain": [
       "Pipeline(memory=None,\n",
       "     steps=[('standardscaler', StandardScaler(copy=True, with_mean=True, with_std=True)), ('xgbregressor', XGBRegressor(base_score=0.5, booster='gbtree', colsample_bylevel=1,\n",
       "       colsample_bynode=1, colsample_bytree=1, enable_categorical=False,\n",
       "       gamma=0, gpu_id=-1, importance_type=None,\n",
       "       i...s_weight=1,\n",
       "       subsample=1, tree_method='exact', validate_parameters=1,\n",
       "       verbosity=None))])"
      ]
     },
     "execution_count": 33,
     "metadata": {},
     "output_type": "execute_result"
    }
   ],
   "source": [
    "# SVM training\n",
    "from sklearn.preprocessing import StandardScaler\n",
    "from sklearn.pipeline import make_pipeline\n",
    "from xgboost import XGBRegressor\n",
    "my_pipeline = make_pipeline(StandardScaler(), XGBRegressor())\n",
    "my_pipeline.fit(X_train, y_train)"
   ]
  },
  {
   "cell_type": "code",
   "execution_count": 34,
   "metadata": {},
   "outputs": [
    {
     "name": "stdout",
     "output_type": "stream",
     "text": [
      "0.042482854830645476\n"
     ]
    },
    {
     "name": "stderr",
     "output_type": "stream",
     "text": [
      "D:\\Anaconda3\\lib\\site-packages\\sklearn\\pipeline.py:331: DataConversionWarning: Data with input dtype int64, float64 were all converted to float64 by StandardScaler.\n",
      "  Xt = transform.transform(Xt)\n"
     ]
    }
   ],
   "source": [
    "# Test report\n",
    "from sklearn.metrics import mean_squared_error\n",
    "y_pred = my_pipeline.predict(X_test)\n",
    "print(mean_squared_error(y_test, y_pred))"
   ]
  },
  {
   "cell_type": "code",
   "execution_count": null,
   "metadata": {},
   "outputs": [],
   "source": []
  }
 ],
 "metadata": {
  "kernelspec": {
   "display_name": "Python [conda env:root] *",
   "language": "python",
   "name": "conda-root-py"
  },
  "language_info": {
   "codemirror_mode": {
    "name": "ipython",
    "version": 3
   },
   "file_extension": ".py",
   "mimetype": "text/x-python",
   "name": "python",
   "nbconvert_exporter": "python",
   "pygments_lexer": "ipython3",
   "version": "3.7.1"
  }
 },
 "nbformat": 4,
 "nbformat_minor": 2
}
