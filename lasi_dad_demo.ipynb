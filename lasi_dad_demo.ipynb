{
 "cells": [
  {
   "cell_type": "code",
   "execution_count": null,
   "metadata": {},
   "outputs": [],
   "source": [
    "# dta -> csv\n",
    "import pandas as pd\n",
    "data_path = 'C:/Users/HP/Desktop/data'\n",
    "data = pd.io.stata.read_stata(data_path + '/H_DAD_w1a3.dta')\n",
    "data.to_csv(data_path + '/H_DAD_w1a3.csv') # Save as a csv"
   ]
  },
  {
   "cell_type": "code",
   "execution_count": null,
   "metadata": {},
   "outputs": [],
   "source": [
    "# csv -> df\n",
    "import csv\n",
    "import pandas as pd\n",
    "csv_path = 'C:/Users/HP/Desktop/data/'\n",
    "df = pd.read_csv(csv_path + '/H_DAD_w1a3.csv', index_col=0)\n",
    "print(df.shape)"
   ]
  },
  {
   "cell_type": "code",
   "execution_count": null,
   "metadata": {},
   "outputs": [],
   "source": [
    "# show the data\n",
    "df.head(10)"
   ]
  },
  {
   "cell_type": "code",
   "execution_count": null,
   "metadata": {},
   "outputs": [],
   "source": [
    "# for i in df.columns.tolist():\n",
    "#     print(i)\n"
   ]
  },
  {
   "cell_type": "code",
   "execution_count": null,
   "metadata": {},
   "outputs": [],
   "source": [
    "# distribution of label\n",
    "df['r1cdr_final'].value_counts()"
   ]
  },
  {
   "cell_type": "code",
   "execution_count": null,
   "metadata": {},
   "outputs": [],
   "source": [
    "# get whatever before r1cdr_final\n",
    "st = df.columns.get_loc('r1stateid')\n",
    "ed = df.columns.get_loc('r1cdr_final')\n",
    "print(st,ed)\n",
    "new_df = df.iloc[:,0:ed+1]\n",
    "print(new_df.shape)"
   ]
  },
  {
   "cell_type": "code",
   "execution_count": null,
   "metadata": {},
   "outputs": [],
   "source": [
    "# drop null data\n",
    "new_df = new_df[new_df['r1cdr_final'].notnull()]\n",
    "print(new_df.shape)\n",
    "new_df = new_df.dropna(axis=1)\n",
    "print(new_df.shape)\n",
    "clean_df = new_df\n",
    "print(clean_df.shape)"
   ]
  },
  {
   "cell_type": "code",
   "execution_count": null,
   "metadata": {},
   "outputs": [],
   "source": [
    "# split features and labels\n",
    "y = clean_df.r1cdr_final\n",
    "X = clean_df.drop(['r1cdr_final'], axis=1)\n",
    "print(y.shape)\n",
    "print(X.shape)"
   ]
  },
  {
   "cell_type": "code",
   "execution_count": null,
   "metadata": {},
   "outputs": [],
   "source": [
    "# split train_data and test_data\n",
    "from sklearn.model_selection import train_test_split\n",
    "from sklearn import preprocessing\n",
    "# y[y <= 0.5] = 0\n",
    "# y[y > 0.5] = 1\n",
    "print(y.shape)\n",
    "labelencoder = preprocessing.LabelEncoder()\n",
    "labelencoder.fit(y)\n",
    "y = labelencoder.transform(y)\n",
    "print(y)\n",
    "X_train, X_test, y_train, y_test = train_test_split(X, y, train_size=0.8, test_size=0.2, random_state=0)"
   ]
  },
  {
   "cell_type": "code",
   "execution_count": null,
   "metadata": {},
   "outputs": [],
   "source": [
    "# SVM training\n",
    "from sklearn.preprocessing import StandardScaler\n",
    "from sklearn.pipeline import make_pipeline\n",
    "from sklearn.svm import SVC\n",
    "my_pipeline = make_pipeline(StandardScaler(), SVC(gamma='auto', class_weight='balanced'))\n",
    "my_pipeline.fit(X_train, y_train)"
   ]
  },
  {
   "cell_type": "code",
   "execution_count": null,
   "metadata": {},
   "outputs": [],
   "source": [
    "# Test report\n",
    "from sklearn.metrics import precision_recall_fscore_support\n",
    "from sklearn.metrics import classification_report\n",
    "y_pred = my_pipeline.predict(X_test)\n",
    "print(classification_report(y_test, y_pred))"
   ]
  },
  {
   "cell_type": "code",
   "execution_count": null,
   "metadata": {},
   "outputs": [],
   "source": [
    "# SVM training\n",
    "from sklearn.preprocessing import StandardScaler\n",
    "from sklearn.pipeline import make_pipeline\n",
    "from xgboost import XGBClassifier\n",
    "my_pipeline = make_pipeline(StandardScaler(), XGBClassifier())\n",
    "my_pipeline.fit(X_train, y_train)"
   ]
  },
  {
   "cell_type": "code",
   "execution_count": null,
   "metadata": {},
   "outputs": [],
   "source": [
    "# Test report\n",
    "from sklearn.metrics import precision_recall_fscore_support\n",
    "from sklearn.metrics import classification_report\n",
    "y_pred = my_pipeline.predict(X_test)\n",
    "print(classification_report(y_test, y_pred))"
   ]
  },
  {
   "cell_type": "code",
   "execution_count": null,
   "metadata": {},
   "outputs": [],
   "source": []
  }
 ],
 "metadata": {
  "kernelspec": {
   "display_name": "Python [conda env:root] *",
   "language": "python",
   "name": "conda-root-py"
  },
  "language_info": {
   "codemirror_mode": {
    "name": "ipython",
    "version": 3
   },
   "file_extension": ".py",
   "mimetype": "text/x-python",
   "name": "python",
   "nbconvert_exporter": "python",
   "pygments_lexer": "ipython3",
   "version": "3.7.1"
  }
 },
 "nbformat": 4,
 "nbformat_minor": 2
}
